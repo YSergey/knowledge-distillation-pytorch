{
 "cells": [
  {
   "cell_type": "code",
   "execution_count": 4,
   "id": "a6069e0d",
   "metadata": {},
   "outputs": [],
   "source": [
    "import torch \n",
    "import torch.nn as nn \n",
    "import torch.nn.functional as F \n",
    "import torch.optim as optim \n",
    "import torchvision \n",
    "from torchvision import datasets,models,transforms \n",
    "from torchvision.transforms.functional import to_pil_image\n",
    "import os \n",
    "import time \n",
    "import copy \n",
    "import matplotlib.pyplot as plt \n",
    "%matplotlib inline\n"
   ]
  },
  {
   "cell_type": "code",
   "execution_count": 5,
   "id": "0a381338",
   "metadata": {},
   "outputs": [],
   "source": [
    "mean_gray = 0.1307\n",
    "stddev_gray = 0.3081\n",
    "\n",
    "data_transform = transforms.Compose([\n",
    "    transforms.ToTensor(),\n",
    "    transforms.Normalize((mean_gray,),(stddev_gray,))\n",
    "])\n",
    "\n",
    "#Load MNIST data \n",
    "train_dataset = torchvision.datasets.MNIST(\n",
    "    root='./data',\n",
    "    train=True,\n",
    "    transform = data_transform,\n",
    "    download=False\n",
    ")\n",
    "\n",
    "test_dataset = torchvision.datasets.MNIST(\n",
    "    root='./data',\n",
    "    train=False,\n",
    "    transform = data_transform,\n",
    "    download=False\n",
    ")\n"
   ]
  },
  {
   "cell_type": "code",
   "execution_count": 6,
   "id": "56dbb73c",
   "metadata": {},
   "outputs": [
    {
     "name": "stdout",
     "output_type": "stream",
     "text": [
      "Train data shape is 60000\n",
      "Test data shape is 10000\n"
     ]
    }
   ],
   "source": [
    "print('Train data shape is {}'.format(len(train_dataset)))\n",
    "print('Test data shape is {}'.format(len(test_dataset)))"
   ]
  },
  {
   "cell_type": "code",
   "execution_count": 7,
   "id": "f7c86cb3",
   "metadata": {},
   "outputs": [],
   "source": [
    "batch_size = 32\n",
    "\n",
    "train_load = torch.utils.data.DataLoader(\n",
    "    train_dataset,\n",
    "    batch_size = batch_size,\n",
    "    shuffle = True\n",
    ")\n",
    "\n",
    "test_load = torch.utils.data.DataLoader(\n",
    "    test_dataset,\n",
    "    batch_size = batch_size,\n",
    "    shuffle=False\n",
    ")"
   ]
  },
  {
   "cell_type": "code",
   "execution_count": 9,
   "id": "efa73d57",
   "metadata": {},
   "outputs": [
    {
     "name": "stdout",
     "output_type": "stream",
     "text": [
      "torch.Size([32, 1, 28, 28]) torch.Size([32])\n"
     ]
    },
    {
     "data": {
      "image/png": "[encoded data removed]",
      "text/plain": [
       "<Figure size 1080x1080 with 4 Axes>"
      ]
     },
     "metadata": {
      "needs_background": "light"
     },
     "output_type": "display_data"
    }
   ],
   "source": [
    "for x,y in train_load:\n",
    "    print(x.shape,y.shape)\n",
    "    break \n",
    "    \n",
    "num=4\n",
    "img = x[:num]\n",
    "plt.figure(figsize=(15,15))\n",
    "for i in range(num):\n",
    "    plt.subplot(1,num+1,i+1)\n",
    "    plt.imshow(to_pil_image(mean_gray*img[i]+stddev_gray),cmap='gray')"
   ]
  },
  {
   "cell_type": "code",
   "execution_count": 12,
   "id": "0febff20",
   "metadata": {},
   "outputs": [],
   "source": [
    "#Define Teacher Model \n",
    "class Teacher(nn.Module):\n",
    "    def __init__(self):\n",
    "        super(Teacher,self).__init__()\n",
    "        self.fc1 = nn.Linear(28*28,1200)\n",
    "        self.bn1 = nn.BatchNorm1d(1200)\n",
    "        self.fc2 = nn.Linear(1200,1200)\n",
    "        self.bn2 = nn.BatchNorm1d(1200)\n",
    "        self.fc3 = nn.Linear(1200,10)\n",
    "        \n",
    "    def forward(self,x):\n",
    "        x = x.view(x.size(0),-1)\n",
    "        x = F.relu(self.bn1(self.fc1(x)))\n",
    "        x = F.dropout(x,p=0.8)\n",
    "        x = F.relu(self.bn2(self.fc2(x)))\n",
    "        x = F.dropout(x,p=0.8)\n",
    "        x = self.fc3(x)\n",
    "        return x\n",
    "            "
   ]
  },
  {
   "cell_type": "code",
   "execution_count": 13,
   "id": "19834764",
   "metadata": {},
   "outputs": [
    {
     "data": {
      "text/plain": [
       "torch.Size([16, 10])"
      ]
     },
     "execution_count": 13,
     "metadata": {},
     "output_type": "execute_result"
    }
   ],
   "source": [
    "device = torch.device('cuda' if torch.cuda.is_available() else 'cpu')\n",
    "x = torch.randn(16,1,28,28).to(device)\n",
    "teacher = Teacher().to(device)\n",
    "output = teacher(x)\n",
    "output.shape"
   ]
  },
  {
   "cell_type": "code",
   "execution_count": 14,
   "id": "30c81ca6",
   "metadata": {},
   "outputs": [],
   "source": [
    "def initialize_weights(model):\n",
    "    classname = model.__class__.__name__\n",
    "    if classname.find('Linear') != -1:\n",
    "        nn.init.normal_(model.weight.data,0.0,0.02)\n",
    "        nn.init.constant_(model.bias.data,0)\n",
    "    elif classname.find('BatchNorm') != -1:\n",
    "        nn.init.normal_(model.weight.data,1.0,0.02)\n",
    "        nn.init.constant_(model.bias.data,0)\n",
    "        \n",
    "    teacher.apply(initialize_weights)"
   ]
  },
  {
   "cell_type": "code",
   "execution_count": 17,
   "id": "b7d98297",
   "metadata": {},
   "outputs": [],
   "source": [
    "#Train teacher model \n",
    "loss_func = nn.CrossEntropyLoss()\n",
    "opt = optim.Adam(teacher.parameters())\n",
    "from torch.optim.lr_scheduler import ReduceLROnPlateau \n",
    "lr_scheduler = ReduceLROnPlateau(opt,mode='min',factor=0.1,patience=10)"
   ]
  },
  {
   "cell_type": "code",
   "execution_count": 28,
   "id": "4fe9ee3e",
   "metadata": {},
   "outputs": [],
   "source": [
    "# get current lr\n",
    "def get_lr(opt):\n",
    "    for param_group in opt.param_groups:\n",
    "        return param_group['lr']\n",
    "\n",
    "\n",
    "# calculate the metric per mini-batch\n",
    "def metric_batch(output, target):\n",
    "    pred = output.argmax(1, keepdim=True)\n",
    "    corrects = pred.eq(target.view_as(pred)).sum().item()\n",
    "    return corrects\n",
    "\n",
    "\n",
    "# calculate the loss per mini-batch\n",
    "def loss_batch(loss_func, output, target, opt=None):\n",
    "    loss_b = loss_func(output, target)\n",
    "    metric_b = metric_batch(output, target)\n",
    "\n",
    "    if opt is not None:\n",
    "        opt.zero_grad()\n",
    "        loss_b.backward()\n",
    "        opt.step()\n",
    "    \n",
    "    return loss_b.item(), metric_b\n",
    "\n",
    "\n",
    "# calculate the loss per epochs\n",
    "def loss_epoch(model, loss_func, dataset_dl, sanity_check=False, opt=None):\n",
    "    running_loss = 0.0\n",
    "    running_metric = 0.0\n",
    "    len_data = len(dataset_dl.dataset)\n",
    "\n",
    "    for xb, yb in dataset_dl:\n",
    "        xb = xb.to(device)\n",
    "        yb = yb.to(device)\n",
    "        output = model(xb)\n",
    "\n",
    "        loss_b, metric_b = loss_batch(loss_func, output, yb, opt)\n",
    "\n",
    "        running_loss += loss_b\n",
    "        \n",
    "        if metric_b is not None:\n",
    "            running_metric += metric_b\n",
    "\n",
    "        if sanity_check is True:\n",
    "            break\n",
    "\n",
    "    loss = running_loss / len_data\n",
    "    metric = running_metric / len_data\n",
    "    return loss, metric\n",
    "\n",
    "\n",
    "# function to start training\n",
    "def train_val(model, params):\n",
    "    num_epochs=params['num_epochs']\n",
    "    loss_func=params['loss_func']\n",
    "    opt=params['optimizer']\n",
    "    train_dl=params['train_dl']\n",
    "    val_dl=params['val_dl']\n",
    "    sanity_check=params['sanity_check']\n",
    "    lr_scheduler=params['lr_scheduler']\n",
    "    path2weights=params['path2weights']\n",
    "\n",
    "    loss_history = {'train': [], 'val': []}\n",
    "    metric_history = {'train': [], 'val': []}\n",
    "\n",
    "    best_loss = float('inf')\n",
    "    best_model_wts = copy.deepcopy(model.state_dict())\n",
    "    start_time = time.time()\n",
    "\n",
    "    for epoch in range(num_epochs):\n",
    "        current_lr = get_lr(opt)\n",
    "        print('Epoch {}/{}, current lr= {}'.format(epoch, num_epochs-1, current_lr))\n",
    "\n",
    "        model.train()\n",
    "        train_loss, train_metric = loss_epoch(model, loss_func, train_dl, sanity_check, opt)\n",
    "        loss_history['train'].append(train_loss)\n",
    "        metric_history['train'].append(train_metric)\n",
    "\n",
    "        model.eval()\n",
    "        with torch.no_grad():\n",
    "            val_loss, val_metric = loss_epoch(model, loss_func, val_dl, sanity_check)\n",
    "        loss_history['val'].append(val_loss)\n",
    "        metric_history['val'].append(val_metric)\n",
    "\n",
    "        if val_loss < best_loss:\n",
    "            best_loss = val_loss\n",
    "            best_model_wts = copy.deepcopy(model.state_dict())\n",
    "            torch.save(model.state_dict(), path2weights)\n",
    "            print('Copied best model weights!')\n",
    "\n",
    "        lr_scheduler.step(val_loss)\n",
    "        if current_lr != get_lr(opt):\n",
    "            print('Loading best model weights!')\n",
    "            model.load_state_dict(best_model_wts)\n",
    "\n",
    "        print('train loss: %.6f, val loss: %.6f, accuracy: %.2f, time: %.4f min' %(train_loss, val_loss, 100*val_metric, (time.time()-start_time)/60))\n",
    "        print('-'*10)\n",
    "\n",
    "    model.load_state_dict(best_model_wts)\n",
    "    return model, loss_history, metric_history"
   ]
  },
  {
   "cell_type": "code",
   "execution_count": 29,
   "id": "467e6e4c",
   "metadata": {},
   "outputs": [],
   "source": [
    "# set hyper parameters\n",
    "params_train = {\n",
    "    'num_epochs':30,\n",
    "    'optimizer':opt,\n",
    "    'loss_func':loss_func,\n",
    "    'train_dl':train_load,\n",
    "    'val_dl':test_load,\n",
    "    'sanity_check':False,\n",
    "    'lr_scheduler':lr_scheduler,\n",
    "    'path2weights':'./models/teacher_weights.pt',\n",
    "}\n",
    "\n",
    "def createFolder(directory):\n",
    "    try:\n",
    "        if not os.path.exists(directory):\n",
    "            os.makedirs(directory)\n",
    "    except OSerror:\n",
    "        print('Error')\n",
    "createFolder('./data')\n",
    "\n",
    "createFolder('./models')"
   ]
  },
  {
   "cell_type": "code",
   "execution_count": 30,
   "id": "0e0b5e9e",
   "metadata": {},
   "outputs": [
    {
     "name": "stdout",
     "output_type": "stream",
     "text": [
      "Epoch 0/29, current lr= 0.001\n",
      "Copied best model weights!\n",
      "train loss: 0.009861, val loss: 0.007731, accuracy: 92.30, time: 1.0320 min\n",
      "----------\n",
      "Epoch 1/29, current lr= 0.001\n",
      "Copied best model weights!\n",
      "train loss: 0.009121, val loss: 0.006987, accuracy: 93.14, time: 2.1103 min\n",
      "----------\n",
      "Epoch 2/29, current lr= 0.001\n",
      "Copied best model weights!\n",
      "train loss: 0.008311, val loss: 0.006507, accuracy: 93.89, time: 3.1176 min\n",
      "----------\n",
      "Epoch 3/29, current lr= 0.001\n",
      "Copied best model weights!\n",
      "train loss: 0.007734, val loss: 0.006198, accuracy: 94.12, time: 4.1241 min\n",
      "----------\n",
      "Epoch 4/29, current lr= 0.001\n",
      "Copied best model weights!\n",
      "train loss: 0.007431, val loss: 0.005892, accuracy: 94.37, time: 5.1418 min\n",
      "----------\n",
      "Epoch 5/29, current lr= 0.001\n",
      "Copied best model weights!\n",
      "train loss: 0.007125, val loss: 0.005679, accuracy: 94.62, time: 6.2937 min\n",
      "----------\n",
      "Epoch 6/29, current lr= 0.001\n",
      "Copied best model weights!\n",
      "train loss: 0.006885, val loss: 0.005608, accuracy: 94.71, time: 7.3955 min\n",
      "----------\n",
      "Epoch 7/29, current lr= 0.001\n",
      "Copied best model weights!\n",
      "train loss: 0.006741, val loss: 0.005435, accuracy: 94.75, time: 8.5335 min\n",
      "----------\n",
      "Epoch 8/29, current lr= 0.001\n",
      "Copied best model weights!\n",
      "train loss: 0.006387, val loss: 0.005032, accuracy: 95.32, time: 9.8333 min\n",
      "----------\n",
      "Epoch 9/29, current lr= 0.001\n",
      "train loss: 0.006201, val loss: 0.005541, accuracy: 95.01, time: 11.0058 min\n",
      "----------\n",
      "Epoch 10/29, current lr= 0.001\n",
      "train loss: 0.006015, val loss: 0.005189, accuracy: 95.20, time: 12.1002 min\n",
      "----------\n",
      "Epoch 11/29, current lr= 0.001\n",
      "Copied best model weights!\n",
      "train loss: 0.005813, val loss: 0.004987, accuracy: 95.44, time: 13.3090 min\n",
      "----------\n",
      "Epoch 12/29, current lr= 0.001\n",
      "Copied best model weights!\n",
      "train loss: 0.005784, val loss: 0.004930, accuracy: 95.59, time: 14.6247 min\n",
      "----------\n",
      "Epoch 13/29, current lr= 0.001\n",
      "Copied best model weights!\n",
      "train loss: 0.005722, val loss: 0.004749, accuracy: 95.52, time: 15.7303 min\n",
      "----------\n",
      "Epoch 14/29, current lr= 0.001\n",
      "Copied best model weights!\n",
      "train loss: 0.005650, val loss: 0.004694, accuracy: 95.92, time: 16.8539 min\n",
      "----------\n",
      "Epoch 15/29, current lr= 0.001\n",
      "train loss: 0.005433, val loss: 0.004954, accuracy: 95.62, time: 18.0461 min\n",
      "----------\n",
      "Epoch 16/29, current lr= 0.001\n",
      "train loss: 0.005321, val loss: 0.004831, accuracy: 95.82, time: 19.2801 min\n",
      "----------\n",
      "Epoch 17/29, current lr= 0.001\n",
      "Copied best model weights!\n",
      "train loss: 0.005267, val loss: 0.004602, accuracy: 95.93, time: 20.4900 min\n",
      "----------\n",
      "Epoch 18/29, current lr= 0.001\n",
      "train loss: 0.005155, val loss: 0.004622, accuracy: 95.69, time: 21.6995 min\n",
      "----------\n",
      "Epoch 19/29, current lr= 0.001\n",
      "train loss: 0.004902, val loss: 0.004713, accuracy: 95.78, time: 22.8009 min\n",
      "----------\n",
      "Epoch 20/29, current lr= 0.001\n",
      "Copied best model weights!\n",
      "train loss: 0.004976, val loss: 0.004486, accuracy: 95.86, time: 23.8313 min\n",
      "----------\n",
      "Epoch 21/29, current lr= 0.001\n",
      "train loss: 0.004943, val loss: 0.004592, accuracy: 96.06, time: 24.9476 min\n",
      "----------\n",
      "Epoch 22/29, current lr= 0.001\n",
      "train loss: 0.004866, val loss: 0.004831, accuracy: 95.77, time: 26.2030 min\n",
      "----------\n",
      "Epoch 23/29, current lr= 0.001\n",
      "Copied best model weights!\n",
      "train loss: 0.004720, val loss: 0.004340, accuracy: 96.28, time: 27.3020 min\n",
      "----------\n",
      "Epoch 24/29, current lr= 0.001\n",
      "Copied best model weights!\n",
      "train loss: 0.004704, val loss: 0.004324, accuracy: 95.95, time: 28.4956 min\n",
      "----------\n",
      "Epoch 25/29, current lr= 0.001\n",
      "train loss: 0.004589, val loss: 0.004523, accuracy: 96.19, time: 29.7000 min\n",
      "----------\n",
      "Epoch 26/29, current lr= 0.001\n",
      "Copied best model weights!\n",
      "train loss: 0.004685, val loss: 0.004206, accuracy: 96.17, time: 30.7864 min\n",
      "----------\n",
      "Epoch 27/29, current lr= 0.001\n",
      "train loss: 0.004589, val loss: 0.004208, accuracy: 96.26, time: 32.0367 min\n",
      "----------\n",
      "Epoch 28/29, current lr= 0.001\n",
      "train loss: 0.004441, val loss: 0.004352, accuracy: 96.11, time: 33.2136 min\n",
      "----------\n",
      "Epoch 29/29, current lr= 0.001\n",
      "Copied best model weights!\n",
      "train loss: 0.004394, val loss: 0.004084, accuracy: 96.56, time: 34.3548 min\n",
      "----------\n"
     ]
    }
   ],
   "source": [
    "teacher, loss_hist, metric_hist = train_val(teacher, params_train)"
   ]
  },
  {
   "cell_type": "code",
   "execution_count": 31,
   "id": "6102b04e",
   "metadata": {},
   "outputs": [
    {
     "data": {
      "image/png": "[encoded data removed]",
      "text/plain": [
       "<Figure size 432x288 with 1 Axes>"
      ]
     },
     "metadata": {
      "needs_background": "light"
     },
     "output_type": "display_data"
    },
    {
     "data": {
      "image/png": "[encoded data removed]",
      "text/plain": [
       "<Figure size 432x288 with 1 Axes>"
      ]
     },
     "metadata": {
      "needs_background": "light"
     },
     "output_type": "display_data"
    }
   ],
   "source": [
    "num_epochs = params_train['num_epochs']\n",
    "\n",
    "# Plot train-val loss\n",
    "plt.title('Train-Val Loss')\n",
    "plt.plot(range(1, num_epochs+1), loss_hist['train'], label='train')\n",
    "plt.plot(range(1, num_epochs+1), loss_hist['val'], label='val')\n",
    "plt.ylabel('Loss')\n",
    "plt.xlabel('Training Epochs')\n",
    "plt.legend()\n",
    "plt.show()\n",
    "\n",
    "# plot train-val accuracy\n",
    "plt.title('Train-Val Accuracy')\n",
    "plt.plot(range(1, num_epochs+1), metric_hist['train'], label='train')\n",
    "plt.plot(range(1, num_epochs+1), metric_hist['val'], label='val')\n",
    "plt.ylabel('Accuracy')\n",
    "plt.xlabel('Training Epochs')\n",
    "plt.legend()\n",
    "plt.show()"
   ]
  },
  {
   "cell_type": "code",
   "execution_count": 32,
   "id": "f25a5559",
   "metadata": {},
   "outputs": [],
   "source": [
    "#Define Student model \n",
    "class Student(nn.Module):\n",
    "    def __init__(self):\n",
    "        super(Student,self).__init__()\n",
    "        self.fc1 = nn.Linear(28*28,800)\n",
    "        self.bn1 = nn.BatchNorm1d(800)\n",
    "        self.fc2 = nn.Linear(800,800)\n",
    "        self.bn2 = nn.BatchNorm1d(800)\n",
    "        self.fc3 = nn.Linear(800,10)\n",
    "        \n",
    "    def forward(self,x):\n",
    "        x = x.view(-1,28*28)\n",
    "        x = F.relu(self.bn1(self.fc1(x)))\n",
    "        x = F.relu(self.bn2(self.fc2(x)))\n",
    "        x = self.fc3(x)\n",
    "        return x"
   ]
  },
  {
   "cell_type": "code",
   "execution_count": 34,
   "id": "14c8c437",
   "metadata": {},
   "outputs": [
    {
     "data": {
      "text/plain": [
       "torch.Size([16, 10])"
      ]
     },
     "execution_count": 34,
     "metadata": {},
     "output_type": "execute_result"
    }
   ],
   "source": [
    "#Check \n",
    "x = torch.randn(16,1,28,28).to(device)\n",
    "student = Student().to(device)\n",
    "output = student(x)\n",
    "output.shape"
   ]
  },
  {
   "cell_type": "code",
   "execution_count": 36,
   "id": "33b4eb4d",
   "metadata": {},
   "outputs": [
    {
     "data": {
      "text/plain": [
       "Student(\n",
       "  (fc1): Linear(in_features=784, out_features=800, bias=True)\n",
       "  (bn1): BatchNorm1d(800, eps=1e-05, momentum=0.1, affine=True, track_running_stats=True)\n",
       "  (fc2): Linear(in_features=800, out_features=800, bias=True)\n",
       "  (bn2): BatchNorm1d(800, eps=1e-05, momentum=0.1, affine=True, track_running_stats=True)\n",
       "  (fc3): Linear(in_features=800, out_features=10, bias=True)\n",
       ")"
      ]
     },
     "execution_count": 36,
     "metadata": {},
     "output_type": "execute_result"
    }
   ],
   "source": [
    "# weight initialization\n",
    "def initialize_weights(model):\n",
    "    classname = model.__class__.__name__\n",
    "    # fc layer\n",
    "    if classname.find('Linear') != -1:\n",
    "        nn.init.normal_(model.weight.data, 0.0, 0.02)\n",
    "        nn.init.constant_(model.bias.data, 0)\n",
    "    # batchnorm\n",
    "    elif classname.find('BatchNorm') != -1:\n",
    "        nn.init.normal_(model.weight.data, 1.0, 0.02)\n",
    "        nn.init.constant_(model.bias.data, 0)\n",
    "\n",
    "\n",
    "student.apply(initialize_weights)"
   ]
  },
  {
   "cell_type": "code",
   "execution_count": 37,
   "id": "c4c2e696",
   "metadata": {},
   "outputs": [],
   "source": [
    "#Knowledge distillation \n",
    "teacher = Teacher().to(device)\n",
    "teacher.load_state_dict(torch.load('./models/teacher_weights.pt'))\n",
    "student = Student().to(device)\n",
    "opt = optim.Adam(student.parameters())"
   ]
  },
  {
   "cell_type": "code",
   "execution_count": 43,
   "id": "be460a42",
   "metadata": {},
   "outputs": [],
   "source": [
    "# knowledge distillation loss\n",
    "def distillation(y, labels, teacher_scores, T, alpha):\n",
    "    # distillation loss + classification loss\n",
    "    # y: student\n",
    "    # labels: hard label\n",
    "    # teacher_scores: soft label\n",
    "    return nn.KLDivLoss()(F.log_softmax(y/T), F.softmax(teacher_scores/T)) * (T*T * 2.0 + alpha) + F.cross_entropy(y,labels) * (1.-alpha)\n",
    "\n",
    "# val loss\n",
    "loss_func = nn.CrossEntropyLoss()"
   ]
  },
  {
   "cell_type": "code",
   "execution_count": 44,
   "id": "09bb6340",
   "metadata": {},
   "outputs": [],
   "source": [
    "def distill_loss_batch(output,target,teacher_output,loss_fn=distillation,opt=opt):\n",
    "    loss_b = loss_fn(output,target,teacher_output,T=20.0,alpha=0.7)\n",
    "    metric_b = metric_batch(output,target)\n",
    "    \n",
    "    if opt is not None:\n",
    "        opt.zero_grad()\n",
    "        loss_b.backward()\n",
    "        opt.step()\n",
    "        \n",
    "    return loss_b.item(),metric_b "
   ]
  },
  {
   "cell_type": "code",
   "execution_count": 54,
   "id": "862e67f1",
   "metadata": {},
   "outputs": [
    {
     "name": "stdout",
     "output_type": "stream",
     "text": [
      "Epoch 0/9, current lr= 0.001\n"
     ]
    },
    {
     "name": "stderr",
     "output_type": "stream",
     "text": [
      "/Users/y_tamura/opt/anaconda3/lib/python3.7/site-packages/ipykernel_launcher.py:7: UserWarning: Implicit dimension choice for log_softmax has been deprecated. Change the call to include dim=X as an argument.\n",
      "  import sys\n",
      "/Users/y_tamura/opt/anaconda3/lib/python3.7/site-packages/ipykernel_launcher.py:7: UserWarning: Implicit dimension choice for softmax has been deprecated. Change the call to include dim=X as an argument.\n",
      "  import sys\n"
     ]
    },
    {
     "name": "stdout",
     "output_type": "stream",
     "text": [
      "train loss: 0.055036, val loss: 0.001820, accuracy: 98.42, time: 1.3266 min\n",
      "----------\n",
      "Epoch 1/9, current lr= 0.001\n",
      "train loss: 0.055099, val loss: 0.001781, accuracy: 98.42, time: 2.5973 min\n",
      "----------\n",
      "Epoch 2/9, current lr= 0.001\n",
      "train loss: 0.055004, val loss: 0.001755, accuracy: 98.44, time: 3.9268 min\n",
      "----------\n",
      "Epoch 3/9, current lr= 0.001\n",
      "train loss: 0.055149, val loss: 0.001846, accuracy: 98.32, time: 5.1736 min\n",
      "----------\n",
      "Epoch 4/9, current lr= 0.001\n",
      "train loss: 0.055170, val loss: 0.001800, accuracy: 98.33, time: 6.4276 min\n",
      "----------\n",
      "Epoch 5/9, current lr= 0.001\n",
      "train loss: 0.055275, val loss: 0.001796, accuracy: 98.36, time: 7.7031 min\n",
      "----------\n",
      "Epoch 6/9, current lr= 0.001\n",
      "train loss: 0.055260, val loss: 0.001771, accuracy: 98.37, time: 8.9373 min\n",
      "----------\n",
      "Epoch 7/9, current lr= 0.001\n",
      "train loss: 0.055116, val loss: 0.001798, accuracy: 98.34, time: 10.1337 min\n",
      "----------\n",
      "Epoch 8/9, current lr= 0.001\n",
      "train loss: 0.055160, val loss: 0.001792, accuracy: 98.33, time: 11.3073 min\n",
      "----------\n",
      "Epoch 9/9, current lr= 0.001\n",
      "train loss: 0.054862, val loss: 0.001732, accuracy: 98.37, time: 12.5437 min\n",
      "----------\n"
     ]
    }
   ],
   "source": [
    "num_epochs= 10\n",
    "\n",
    "loss_history = {'train': [], 'val': []}\n",
    "metric_history = {'train': [], 'val': []}\n",
    "\n",
    "best_loss = float('inf')\n",
    "start_time = time.time()\n",
    "\n",
    "for epoch in range(num_epochs):\n",
    "    current_lr = get_lr(opt)\n",
    "    print('Epoch {}/{}, current lr= {}'.format(epoch, num_epochs-1, current_lr))\n",
    "\n",
    "    # train\n",
    "    student.train()\n",
    "\n",
    "    running_loss = 0.0\n",
    "    running_metric = 0.0\n",
    "    len_data = len(train_load.dataset)\n",
    "\n",
    "    for xb, yb in train_load:\n",
    "        xb = xb.to(device)\n",
    "        yb = yb.to(device)\n",
    "\n",
    "        output = student(xb)\n",
    "        teacher_output = teacher(xb).detach()\n",
    "        loss_b, metric_b = distill_loss_batch(output, yb, teacher_output, loss_fn=distillation, opt=opt)\n",
    "        running_loss += loss_b\n",
    "        running_metric_b = metric_b\n",
    "    train_loss = running_loss / len_data\n",
    "    train_metric = running_metric / len_data\n",
    "\n",
    "    loss_history['train'].append(train_loss)\n",
    "    metric_history['train'].append(train_metric)\n",
    "\n",
    "    # validation\n",
    "    student.eval()\n",
    "    with torch.no_grad():\n",
    "        val_loss, val_metric = loss_epoch(student, loss_func, test_load)\n",
    "    loss_history['val'].append(val_loss)\n",
    "    metric_history['val'].append(val_metric)\n",
    "\n",
    "\n",
    "    lr_scheduler.step(val_loss)\n",
    "\n",
    "    print('train loss: %.6f, val loss: %.6f, accuracy: %.2f, time: %.4f min' %(train_loss, val_loss, 100*val_metric, (time.time()-start_time)/60))\n",
    "    print('-'*10)"
   ]
  },
  {
   "cell_type": "code",
   "execution_count": 62,
   "id": "237a10e2",
   "metadata": {},
   "outputs": [
    {
     "data": {
      "image/png": "[encoded data removed]",
      "text/plain": [
       "<Figure size 432x288 with 1 Axes>"
      ]
     },
     "metadata": {
      "needs_background": "light"
     },
     "output_type": "display_data"
    },
    {
     "data": {
      "image/png": "[encoded data removed]",
      "text/plain": [
       "<Figure size 432x288 with 1 Axes>"
      ]
     },
     "metadata": {
      "needs_background": "light"
     },
     "output_type": "display_data"
    }
   ],
   "source": [
    "# Plot train-val loss\n",
    "plt.title('Train-Val Loss')\n",
    "plt.plot(range(1, num_epochs+1), loss_history['train'], label='train')\n",
    "plt.plot(range(1, num_epochs+1), loss_history['val'], label='val')\n",
    "plt.ylabel('Loss')\n",
    "plt.xlabel('Training Epochs')\n",
    "plt.legend()\n",
    "plt.show()\n",
    "\n",
    "# plot train-val accuracy\n",
    "plt.title('Train-Val Accuracy')\n",
    "plt.plot(range(1, num_epochs+1), metric_history['train'], label='train')\n",
    "plt.plot(range(1, num_epochs+1), metric_history['val'], label='val')\n",
    "plt.ylabel('Accuracy')\n",
    "plt.xlabel('Training Epochs')\n",
    "plt.legend()\n",
    "plt.show()"
   ]
  },
  {
   "cell_type": "code",
   "execution_count": null,
   "id": "99b3c5c9",
   "metadata": {},
   "outputs": [],
   "source": []
  }
 ],
 "metadata": {
  "kernelspec": {
   "display_name": "Python 3",
   "language": "python",
   "name": "python3"
  },
  "language_info": {
   "codemirror_mode": {
    "name": "ipython",
    "version": 3
   },
   "file_extension": ".py",
   "mimetype": "text/x-python",
   "name": "python",
   "nbconvert_exporter": "python",
   "pygments_lexer": "ipython3",
   "version": "3.7.9"
  }
 },
 "nbformat": 4,
 "nbformat_minor": 5
}
