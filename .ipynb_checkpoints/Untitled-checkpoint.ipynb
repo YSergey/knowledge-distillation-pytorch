{
 "cells": [
  {
   "cell_type": "code",
   "execution_count": 23,
   "id": "7691ada2",
   "metadata": {},
   "outputs": [],
   "source": [
    "import torch \n",
    "import torch.nn as nn \n",
    "import torch.optim as optim \n",
    "import torchvision \n",
    "from torchvision import datasets,transforms \n",
    "import os \n"
   ]
  },
  {
   "cell_type": "code",
   "execution_count": 116,
   "id": "88b13183",
   "metadata": {},
   "outputs": [
    {
     "data": {
      "text/plain": [
       "(1875, 313)"
      ]
     },
     "execution_count": 116,
     "metadata": {},
     "output_type": "execute_result"
    }
   ],
   "source": [
    "mean_gray = 0.1307\n",
    "stddev_gray = 0.3081\n",
    "\n",
    "data_transform = transforms.Compose([\n",
    "    transforms.ToTensor(),\n",
    "    transforms.Normalize((mean_gray,),(stddev_gray,))\n",
    "])\n",
    "\n",
    "#Load MNIST data \n",
    "train_dataset = torchvision.datasets.MNIST(\n",
    "    root='./data',\n",
    "    train=True,\n",
    "    transform = data_transform,\n",
    "    download=False\n",
    ")\n",
    "\n",
    "test_dataset = torchvision.datasets.MNIST(\n",
    "    root='./data',\n",
    "    train=False,\n",
    "    transform = data_transform,\n",
    "    download=False\n",
    ")\n"
   ]
  },
  {
   "cell_type": "code",
   "execution_count": 121,
   "id": "fb07d0d6",
   "metadata": {},
   "outputs": [
    {
     "name": "stdout",
     "output_type": "stream",
     "text": [
      "Train data shape is 60000\n",
      "Test data shape is 10000\n"
     ]
    }
   ],
   "source": [
    "print('Train data shape is {}'.format(len(train_dataset)))\n",
    "print('Test data shape is {}'.format(len(test_dataset)))"
   ]
  },
  {
   "cell_type": "code",
   "execution_count": null,
   "id": "cb126a5c",
   "metadata": {},
   "outputs": [],
   "source": []
  },
  {
   "cell_type": "code",
   "execution_count": 133,
   "id": "1e7fcd30",
   "metadata": {},
   "outputs": [],
   "source": [
    "batch_size = 32\n",
    "\n",
    "train_load = torch.utils.data.DataLoader(\n",
    "    train_dataset,\n",
    "    batch_size = batch_size,\n",
    "    shuffle = True\n",
    ")\n",
    "\n",
    "test_load = torch.utils.data.DataLoader(\n",
    "    test_dataset,\n",
    "    batch_size = batch_size,\n",
    "    shuffle=False\n",
    ")"
   ]
  },
  {
   "cell_type": "code",
   "execution_count": 134,
   "id": "f9179401",
   "metadata": {},
   "outputs": [],
   "source": [
    "class LinearNet(nn.Module):\n",
    "    def __init__(self,dropout=0.5):\n",
    "        super(LinearNet,self).__init__()\n",
    "        self.linear1 = nn.Linear(784,1200,bias=False)\n",
    "        self.relu = nn.ReLU(inplace=True)\n",
    "        self.dropout = nn.Dropout(p=dropout)\n",
    "        self.linear2 = nn.Linear(1200,1200,bias=False)\n",
    "        self.linear3 = nn.Linear(1200,10,bias=False)\n",
    "        \n",
    "    def forward(self,x):\n",
    "        out = x.view(x.size(0),-1)\n",
    "        out = self.linear1(out)\n",
    "        out = self.relu(out)\n",
    "        out = self.linear2(out)\n",
    "        out = self.relu(out)\n",
    "        out = self.dropout(out)\n",
    "        out = self.linear3(out)\n",
    "        return out"
   ]
  },
  {
   "cell_type": "code",
   "execution_count": 141,
   "id": "4db1863c",
   "metadata": {},
   "outputs": [
    {
     "ename": "KeyError",
     "evalue": "'model_state_dict'",
     "output_type": "error",
     "traceback": [
      "\u001b[0;31m---------------------------------------------------------------------------\u001b[0m",
      "\u001b[0;31mKeyError\u001b[0m                                  Traceback (most recent call last)",
      "\u001b[0;32m<ipython-input-141-aa9f0119d97b>\u001b[0m in \u001b[0;36m<module>\u001b[0;34m\u001b[0m\n\u001b[1;32m     11\u001b[0m     \u001b[0mcheckpoint\u001b[0m \u001b[0;34m=\u001b[0m \u001b[0mtorch\u001b[0m\u001b[0;34m.\u001b[0m\u001b[0mload\u001b[0m\u001b[0;34m(\u001b[0m\u001b[0mload_path\u001b[0m \u001b[0;34m+\u001b[0m \u001b[0;34m'model.pth.tar'\u001b[0m\u001b[0;34m,\u001b[0m  \u001b[0mmap_location\u001b[0m\u001b[0;34m=\u001b[0m\u001b[0mtorch\u001b[0m\u001b[0;34m.\u001b[0m\u001b[0mdevice\u001b[0m\u001b[0;34m(\u001b[0m\u001b[0;34m'cpu'\u001b[0m\u001b[0;34m)\u001b[0m\u001b[0;34m)\u001b[0m\u001b[0;34m\u001b[0m\u001b[0;34m\u001b[0m\u001b[0m\n\u001b[1;32m     12\u001b[0m \u001b[0;34m\u001b[0m\u001b[0m\n\u001b[0;32m---> 13\u001b[0;31m \u001b[0mbig_model\u001b[0m\u001b[0;34m.\u001b[0m\u001b[0mload_state_dict\u001b[0m\u001b[0;34m(\u001b[0m\u001b[0mcheckpoint\u001b[0m\u001b[0;34m[\u001b[0m\u001b[0;34m'model_state_dict'\u001b[0m\u001b[0;34m]\u001b[0m\u001b[0;34m,\u001b[0m\u001b[0mstrict\u001b[0m\u001b[0;34m=\u001b[0m\u001b[0;32mFalse\u001b[0m\u001b[0;34m)\u001b[0m\u001b[0;34m\u001b[0m\u001b[0;34m\u001b[0m\u001b[0m\n\u001b[0m\u001b[1;32m     14\u001b[0m \u001b[0mbig_model\u001b[0m\u001b[0;34m.\u001b[0m\u001b[0meval\u001b[0m\u001b[0;34m(\u001b[0m\u001b[0;34m)\u001b[0m\u001b[0;34m\u001b[0m\u001b[0;34m\u001b[0m\u001b[0m\n",
      "\u001b[0;31mKeyError\u001b[0m: 'model_state_dict'"
     ]
    }
   ],
   "source": [
    "if torch.cuda.is_available():\n",
    "    device = torch.device('cuda:0')\n",
    "else:\n",
    "    device = torch.device('cpu')\n",
    "big_model = LinearNet().to(device)\n",
    "\n",
    "load_path = './teacher_linear_model/'\n",
    "if torch.cuda.is_available():\n",
    "    checkpoint = torch.load(load_path + 'model.pth.tar')\n",
    "else:\n",
    "    checkpoint = torch.load(load_path + 'model.pth.tar',  map_location=torch.device('cpu'))\n",
    "    \n",
    "big_model.load_state_dict(checkpoint['model_state_dict'],strict=False)\n",
    "big_model.eval()"
   ]
  },
  {
   "cell_type": "code",
   "execution_count": 140,
   "id": "cefcb4f2",
   "metadata": {},
   "outputs": [
    {
     "name": "stdout",
     "output_type": "stream",
     "text": [
      "[tensor(83)]\n",
      "[tensor(83), tensor(85)]\n",
      "[tensor(83), tensor(85), tensor(84)]\n",
      "[tensor(83), tensor(85), tensor(84), tensor(84)]\n",
      "[tensor(83), tensor(85), tensor(84), tensor(84), tensor(83)]\n"
     ]
    }
   ],
   "source": [
    "#train \n",
    "num_epochs = 5 \n",
    "batch_size = 32 \n",
    "\n",
    "train_loss = []\n",
    "train_accuracy = [] \n",
    "\n",
    "model = LinearNet()\n",
    "\n",
    "loss_fn = nn.CrossEntropyLoss()        \n",
    "optimizer = torch.optim.Adam(model.parameters(), lr = 0.01)\n",
    "\n",
    "for epoch in range(num_epochs):\n",
    "    correct = 0\n",
    "    iterations = 0 \n",
    "    iter_loss = 0.0\n",
    "    for i,(images,labels) in enumerate(train_load):\n",
    "        outputs = model(images)\n",
    "        loss = loss_fn(outputs,labels)\n",
    "        iter_loss += loss.item()\n",
    "        optimizer.zero_grad()\n",
    "        loss.backward()\n",
    "        optimizer.step()\n",
    "        \n",
    "        _,predict = torch.max(outputs,dim=1)\n",
    "        correct += (predict == labels).sum() \n",
    "        iterations += 1 \n",
    "    train_loss.append(iter_loss / iterations)\n",
    "    train_accuracy.append((100 * correct // len(train_dataset)))\n",
    "    print(train_accuracy)\n",
    "    torch.save(model.state_dict(), 'model.pth.tar')"
   ]
  },
  {
   "cell_type": "code",
   "execution_count": 145,
   "id": "bfafbbba",
   "metadata": {},
   "outputs": [
    {
     "data": {
      "text/plain": [
       "LinearNet(\n",
       "  (linear1): Linear(in_features=784, out_features=1200, bias=False)\n",
       "  (relu): ReLU(inplace=True)\n",
       "  (dropout): Dropout(p=0.5, inplace=False)\n",
       "  (linear2): Linear(in_features=1200, out_features=1200, bias=False)\n",
       "  (linear3): Linear(in_features=1200, out_features=10, bias=False)\n",
       ")"
      ]
     },
     "execution_count": 145,
     "metadata": {},
     "output_type": "execute_result"
    }
   ],
   "source": [
    "load_path = './teacher_linear_model/'\n",
    "load_path = load_path + 'model.pth.tar'\n",
    "model.load_state_dict(torch.load(load_path))\n",
    "model.eval()"
   ]
  },
  {
   "cell_type": "code",
   "execution_count": 154,
   "id": "fb3ebd4e",
   "metadata": {},
   "outputs": [
    {
     "data": {
      "text/plain": [
       "[tensor(90)]"
      ]
     },
     "execution_count": 154,
     "metadata": {},
     "output_type": "execute_result"
    }
   ],
   "source": [
    "#Testing\n",
    "\n",
    "with torch.no_grad():\n",
    "    loss = 0.0\n",
    "    correct = 0\n",
    "    iterations = 0\n",
    "    test_loss = []\n",
    "    test_accuracy = []\n",
    "    for i,(images,labels) in enumerate(test_load):\n",
    "        outputs = model(images)\n",
    "        loss = loss_fn(outputs,labels)\n",
    "        loss += loss.item()\n",
    "        _,predict = torch.max(outputs,dim=1)\n",
    "        correct += (predict == labels).sum()\n",
    "        iterations += 1\n",
    "    \n",
    "test_loss.append(loss/iterations)\n",
    "test_accuracy.append(100 * correct //len(test_dataset))\n",
    "\n",
    "test_accuracy"
   ]
  },
  {
   "cell_type": "code",
   "execution_count": 46,
   "id": "19a3ab84",
   "metadata": {},
   "outputs": [],
   "source": [
    "class SmallLinearNet(nn.Module):\n",
    "    def __init__(self):\n",
    "        super(SmallLinearNet,self).__init__()\n",
    "        self.linear1 = nn.Linear(784,50)\n",
    "        self.relu = nn.ReLU(inplace=True)\n",
    "        self.linear2 = nn.Linear(50,10)\n",
    "    \n",
    "    def forward(self,x):\n",
    "        out = self.linear1(x)\n",
    "        out = self.relu(out)\n",
    "        out = self.linear2(out)\n",
    "        return out"
   ]
  },
  {
   "cell_type": "code",
   "execution_count": null,
   "id": "0184a179",
   "metadata": {},
   "outputs": [],
   "source": []
  },
  {
   "cell_type": "code",
   "execution_count": 48,
   "id": "1f8796bf",
   "metadata": {},
   "outputs": [
    {
     "data": {
      "text/plain": [
       "SmallLinearNet(\n",
       "  (linear1): Linear(in_features=784, out_features=50, bias=True)\n",
       "  (relu): ReLU(inplace=True)\n",
       "  (linear2): Linear(in_features=50, out_features=10, bias=True)\n",
       ")"
      ]
     },
     "execution_count": 48,
     "metadata": {},
     "output_type": "execute_result"
    }
   ],
   "source": [
    "if torch.cuda.is_available():\n",
    "    device = torch.device('cuda:0')\n",
    "else:\n",
    "    device = torch.device('cpu')\n",
    "small_model = SmallLinearNet().to(device)\n",
    "\n",
    "load_path = './small_linear_model/'\n",
    "checkpoint = torch.load(load_path+'modelo',map_location=torch.device('cpu'))\n",
    "small_model.load_state_dict(checkpoint['model_state_dict'],strict=False)\n",
    "small_model.eval()"
   ]
  },
  {
   "cell_type": "code",
   "execution_count": null,
   "id": "fb70336b",
   "metadata": {},
   "outputs": [],
   "source": []
  }
 ],
 "metadata": {
  "kernelspec": {
   "display_name": "Python 3",
   "language": "python",
   "name": "python3"
  },
  "language_info": {
   "codemirror_mode": {
    "name": "ipython",
    "version": 3
   },
   "file_extension": ".py",
   "mimetype": "text/x-python",
   "name": "python",
   "nbconvert_exporter": "python",
   "pygments_lexer": "ipython3",
   "version": "3.7.9"
  }
 },
 "nbformat": 4,
 "nbformat_minor": 5
}
